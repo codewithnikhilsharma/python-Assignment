{
 "cells": [
  {
   "cell_type": "code",
   "execution_count": 1,
   "id": "b436d505-45ff-4b7f-9043-3048fcd955a3",
   "metadata": {},
   "outputs": [
    {
     "name": "stdout",
     "output_type": "stream",
     "text": [
      "Bitwise AND: 0\n",
      "Bitwise OR: 14\n",
      "Bitwise XOR: 14\n",
      "Bitwise NOT (complement) of a: -11\n",
      "Left shift a by 1: 20\n",
      "Right shift a by 1: 5\n"
     ]
    }
   ],
   "source": [
    " # Perform bitwise operations on any two integers.\n",
    "    \n",
    " # Define two integers\n",
    "a = 10   \n",
    "b = 4    \n",
    "\n",
    "# Bitwise AND\n",
    "result_and = a & b\n",
    "print(\"Bitwise AND:\", result_and)  \n",
    "\n",
    "# Bitwise OR\n",
    "result_or = a | b\n",
    "print(\"Bitwise OR:\", result_or)    \n",
    "\n",
    "# Bitwise XOR\n",
    "result_xor = a ^ b\n",
    "print(\"Bitwise XOR:\", result_xor)  \n",
    "\n",
    "# Bitwise NOT (complement) of a\n",
    "result_not_a = ~a\n",
    "print(\"Bitwise NOT (complement) of a:\", result_not_a)  \n",
    "\n",
    "# Left shift a by 1\n",
    "result_left_shift = a << 1\n",
    "print(\"Left shift a by 1:\", result_left_shift)  \n",
    "\n",
    "# Right shift a by 1\n",
    "result_right_shift = a >> 1\n",
    "print(\"Right shift a by 1:\", result_right_shift)  # Output: 5 (B\n",
    "   "
   ]
  },
  {
   "cell_type": "code",
   "execution_count": null,
   "id": "c5463cc5-35b7-49db-85a6-c53ac4f6aed7",
   "metadata": {},
   "outputs": [],
   "source": []
  }
 ],
 "metadata": {
  "kernelspec": {
   "display_name": "Python 3 (ipykernel)",
   "language": "python",
   "name": "python3"
  },
  "language_info": {
   "codemirror_mode": {
    "name": "ipython",
    "version": 3
   },
   "file_extension": ".py",
   "mimetype": "text/x-python",
   "name": "python",
   "nbconvert_exporter": "python",
   "pygments_lexer": "ipython3",
   "version": "3.10.8"
  }
 },
 "nbformat": 4,
 "nbformat_minor": 5
}

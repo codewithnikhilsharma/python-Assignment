{
 "cells": [
  {
   "cell_type": "code",
   "execution_count": 1,
   "id": "627f53b1-b7b8-4020-874d-8602e27d3cd6",
   "metadata": {},
   "outputs": [
    {
     "name": "stdout",
     "output_type": "stream",
     "text": [
      "Original number: 10\n",
      "Number after changing sign: -10\n"
     ]
    }
   ],
   "source": [
    " # Use unary operators to change the sign of a number.\n",
    "    # Define a number\n",
    "number = 10\n",
    "\n",
    "# Change the sign of the number\n",
    "negative_number = -number\n",
    "\n",
    "print(\"Original number:\", number)\n",
    "print(\"Number after changing sign:\", negative_number)\n"
   ]
  },
  {
   "cell_type": "code",
   "execution_count": null,
   "id": "3f8b003f-815f-4ae7-b04a-619102a11d89",
   "metadata": {},
   "outputs": [],
   "source": []
  }
 ],
 "metadata": {
  "kernelspec": {
   "display_name": "Python 3 (ipykernel)",
   "language": "python",
   "name": "python3"
  },
  "language_info": {
   "codemirror_mode": {
    "name": "ipython",
    "version": 3
   },
   "file_extension": ".py",
   "mimetype": "text/x-python",
   "name": "python",
   "nbconvert_exporter": "python",
   "pygments_lexer": "ipython3",
   "version": "3.10.8"
  }
 },
 "nbformat": 4,
 "nbformat_minor": 5
}

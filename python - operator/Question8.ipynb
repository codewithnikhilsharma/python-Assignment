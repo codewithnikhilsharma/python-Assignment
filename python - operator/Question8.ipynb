{
 "cells": [
  {
   "cell_type": "code",
   "execution_count": 2,
   "id": "085e0957-2813-4c6a-b3ed-4da3d6dba839",
   "metadata": {},
   "outputs": [
    {
     "name": "stdout",
     "output_type": "stream",
     "text": [
      "Non-positive\n"
     ]
    }
   ],
   "source": [
    "#Use the ternary operator to assign values based on conditions.\n",
    "\n",
    "# Define a variable\n",
    "x = -9\n",
    "\n",
    "# Assign a value based on a condition using the ternary operator\n",
    "result = \"Positive\" if x > 0 else \"Non-positive\"\n",
    "\n",
    "# Print the result\n",
    "print(result)\n"
   ]
  },
  {
   "cell_type": "code",
   "execution_count": null,
   "id": "70d77118-3258-416b-9d6b-f55d41e29844",
   "metadata": {},
   "outputs": [],
   "source": []
  }
 ],
 "metadata": {
  "kernelspec": {
   "display_name": "Python 3 (ipykernel)",
   "language": "python",
   "name": "python3"
  },
  "language_info": {
   "codemirror_mode": {
    "name": "ipython",
    "version": 3
   },
   "file_extension": ".py",
   "mimetype": "text/x-python",
   "name": "python",
   "nbconvert_exporter": "python",
   "pygments_lexer": "ipython3",
   "version": "3.10.8"
  }
 },
 "nbformat": 4,
 "nbformat_minor": 5
}

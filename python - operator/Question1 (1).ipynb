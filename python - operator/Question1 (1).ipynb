{
 "cells": [
  {
   "cell_type": "code",
   "execution_count": 1,
   "id": "6aae8a55-6386-46ee-a907-f4100c3afab0",
   "metadata": {},
   "outputs": [],
   "source": [
    "# Calculate the sum, difference, product, and quotient of two numbers."
   ]
  },
  {
   "cell_type": "code",
   "execution_count": 2,
   "id": "ca2c8bda-5271-479c-87cc-a968b23c05bc",
   "metadata": {},
   "outputs": [],
   "source": [
    "# Taking Input"
   ]
  },
  {
   "cell_type": "code",
   "execution_count": 8,
   "id": "bc5f22e1-bebf-4767-8185-fa377dbd908a",
   "metadata": {},
   "outputs": [
    {
     "name": "stdin",
     "output_type": "stream",
     "text": [
      "Enter the first number 456989.5\n",
      "Enter the second number 74898.9\n"
     ]
    },
    {
     "name": "stdout",
     "output_type": "stream",
     "text": [
      "Sum: 531888.4\n",
      "Difference: 382090.6\n",
      "Product: 34228010861.55\n",
      "Quotent: 6.101418044857802\n"
     ]
    }
   ],
   "source": [
    "num1 = float(input(\"Enter the first number\"))\n",
    "             \n",
    "num2 = float(input(\"Enter the second number\"))\n",
    "\n",
    "# Calculate Sum \n",
    "\n",
    "sum_result = num1+num2\n",
    "\n",
    "# Calculate difference\n",
    "\n",
    "difference_result = num1-num2\n",
    "\n",
    "# Calculate product\n",
    "\n",
    "product_result = num1*num2\n",
    "\n",
    "# Calculate quotient\n",
    "\n",
    "quotent_result = num1 / num2\n",
    "\n",
    "\n",
    "# display result\n",
    "\n",
    "print(\"Sum:\", sum_result)\n",
    "\n",
    "print(\"Difference:\" , difference_result)\n",
    "\n",
    "print(\"Product:\" , product_result)\n",
    "\n",
    "print(\"Quotent:\" , quotent_result)\n",
    "             "
   ]
  },
  {
   "cell_type": "code",
   "execution_count": null,
   "id": "048322b9-e0a3-4433-842d-e11ca88b6059",
   "metadata": {},
   "outputs": [],
   "source": []
  }
 ],
 "metadata": {
  "kernelspec": {
   "display_name": "Python 3 (ipykernel)",
   "language": "python",
   "name": "python3"
  },
  "language_info": {
   "codemirror_mode": {
    "name": "ipython",
    "version": 3
   },
   "file_extension": ".py",
   "mimetype": "text/x-python",
   "name": "python",
   "nbconvert_exporter": "python",
   "pygments_lexer": "ipython3",
   "version": "3.10.8"
  }
 },
 "nbformat": 4,
 "nbformat_minor": 5
}

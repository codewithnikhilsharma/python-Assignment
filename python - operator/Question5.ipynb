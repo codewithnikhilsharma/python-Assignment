{
 "cells": [
  {
   "cell_type": "code",
   "execution_count": 1,
   "id": "6a3955d1-0041-436d-8481-6791ccda41a9",
   "metadata": {},
   "outputs": [
    {
     "name": "stdout",
     "output_type": "stream",
     "text": [
      "x and y have the same value.\n"
     ]
    }
   ],
   "source": [
    "# Check the identity of variables.\n",
    "\n",
    "x = [1, 2, 3]\n",
    "y = [1, 2, 3]\n",
    "\n",
    "if x == y:\n",
    "    print(\"x and y have the same value.\")\n",
    "else:\n",
    "    print(\"x and y have different values.\")\n"
   ]
  },
  {
   "cell_type": "code",
   "execution_count": null,
   "id": "814718e6-1be9-42e4-90a9-8e9859878494",
   "metadata": {},
   "outputs": [],
   "source": []
  }
 ],
 "metadata": {
  "kernelspec": {
   "display_name": "Python 3 (ipykernel)",
   "language": "python",
   "name": "python3"
  },
  "language_info": {
   "codemirror_mode": {
    "name": "ipython",
    "version": 3
   },
   "file_extension": ".py",
   "mimetype": "text/x-python",
   "name": "python",
   "nbconvert_exporter": "python",
   "pygments_lexer": "ipython3",
   "version": "3.10.8"
  }
 },
 "nbformat": 4,
 "nbformat_minor": 5
}

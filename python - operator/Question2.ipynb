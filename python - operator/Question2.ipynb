{
 "cells": [
  {
   "cell_type": "code",
   "execution_count": 4,
   "id": "0ce2e1c6-f0bc-4657-a0ee-9cec325f41ed",
   "metadata": {},
   "outputs": [
    {
     "name": "stdin",
     "output_type": "stream",
     "text": [
      "Enter a number:  33\n"
     ]
    },
    {
     "name": "stdout",
     "output_type": "stream",
     "text": [
      "After addition: 5.0\n",
      "After subtraction: 2.0\n",
      "After multiplication: 4.0\n",
      "After modulus: 4.0\n",
      "After division: 0.8\n"
     ]
    }
   ],
   "source": [
    "# Perform various assignment operations on a variable.\n",
    "\n",
    "# Taking input from the user\n",
    "\n",
    "user_input = input(\"Enter a number: \")\n",
    "\n",
    "# Performing various assignment operations\n",
    "\n",
    "number += 5\n",
    "print(\"After addition:\", number)\n",
    "\n",
    "number -= 3\n",
    "print(\"After subtraction:\" , number)\n",
    "\n",
    "number *= 2\n",
    "print(\"After multiplication:\" , number)\n",
    "\n",
    "number %= 6\n",
    "print(\"After modulus:\" , number)\n",
    "\n",
    "number /= 5 \n",
    "print(\"After division:\" , number)\n"
   ]
  },
  {
   "cell_type": "code",
   "execution_count": null,
   "id": "7ecfadf4-4bc6-4ed9-b5f7-b40f3e90619a",
   "metadata": {},
   "outputs": [],
   "source": []
  }
 ],
 "metadata": {
  "kernelspec": {
   "display_name": "Python 3 (ipykernel)",
   "language": "python",
   "name": "python3"
  },
  "language_info": {
   "codemirror_mode": {
    "name": "ipython",
    "version": 3
   },
   "file_extension": ".py",
   "mimetype": "text/x-python",
   "name": "python",
   "nbconvert_exporter": "python",
   "pygments_lexer": "ipython3",
   "version": "3.10.8"
  }
 },
 "nbformat": 4,
 "nbformat_minor": 5
}

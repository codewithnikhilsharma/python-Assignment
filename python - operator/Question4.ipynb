{
 "cells": [
  {
   "cell_type": "code",
   "execution_count": 7,
   "id": "4959f7bd-da28-48d8-b426-0810a2c7dea0",
   "metadata": {},
   "outputs": [
    {
     "name": "stdin",
     "output_type": "stream",
     "text": [
      "Enter a number for X :  7\n",
      "Enter a number for y :  9\n"
     ]
    },
    {
     "name": "stdout",
     "output_type": "stream",
     "text": [
      "Both x and y are positive.\n"
     ]
    }
   ],
   "source": [
    "# Check conditions using logical operators.\n",
    "\n",
    "x = int(input(\"Enter a number for X : \"))\n",
    "y = int(input(\"Enter a number for y : \"))\n",
    "\n",
    "# Checking condition using logical operators.\n",
    "\n",
    "if x > 0 and y > 0:\n",
    "    print(\"Both x and y are positive.\")\n",
    "    \n",
    "elif x > 0 or y > 0:\n",
    "    print(\"At least one of x or y is positive.\")\n",
    "    \n",
    "else:\n",
    "    print(\"Neither x nor y is positive.\")\n"
   ]
  },
  {
   "cell_type": "code",
   "execution_count": null,
   "id": "3c20debc-cbb9-40a1-b71f-b3032d809d13",
   "metadata": {},
   "outputs": [],
   "source": []
  },
  {
   "cell_type": "code",
   "execution_count": null,
   "id": "15e5c7a9-60a3-42cf-a1d9-9c9eb374979e",
   "metadata": {},
   "outputs": [],
   "source": [
    "\n"
   ]
  }
 ],
 "metadata": {
  "kernelspec": {
   "display_name": "Python 3 (ipykernel)",
   "language": "python",
   "name": "python3"
  },
  "language_info": {
   "codemirror_mode": {
    "name": "ipython",
    "version": 3
   },
   "file_extension": ".py",
   "mimetype": "text/x-python",
   "name": "python",
   "nbconvert_exporter": "python",
   "pygments_lexer": "ipython3",
   "version": "3.10.8"
  }
 },
 "nbformat": 4,
 "nbformat_minor": 5
}

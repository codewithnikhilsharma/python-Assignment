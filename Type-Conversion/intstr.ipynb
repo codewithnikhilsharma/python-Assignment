{
 "cells": [
  {
   "cell_type": "code",
   "execution_count": 1,
   "id": "debf574a-9bd6-4788-8fa0-39312ed8b01c",
   "metadata": {},
   "outputs": [],
   "source": [
    "# Covert a iteger to a Strig."
   ]
  },
  {
   "cell_type": "code",
   "execution_count": 2,
   "id": "d6242025-2bfc-4770-9d5f-1bf735fd237e",
   "metadata": {},
   "outputs": [],
   "source": [
    "int = 445"
   ]
  },
  {
   "cell_type": "code",
   "execution_count": 3,
   "id": "913204c4-6178-4aeb-96aa-af6f38710336",
   "metadata": {},
   "outputs": [
    {
     "data": {
      "text/plain": [
       "445"
      ]
     },
     "execution_count": 3,
     "metadata": {},
     "output_type": "execute_result"
    }
   ],
   "source": [
    "int"
   ]
  },
  {
   "cell_type": "code",
   "execution_count": 4,
   "id": "b4bc65b3-9a59-45b3-a947-7408466070a1",
   "metadata": {},
   "outputs": [
    {
     "data": {
      "text/plain": [
       "'445'"
      ]
     },
     "execution_count": 4,
     "metadata": {},
     "output_type": "execute_result"
    }
   ],
   "source": [
    "str(int)"
   ]
  },
  {
   "cell_type": "code",
   "execution_count": null,
   "id": "ce287aba-6726-438e-b959-433f7327c4df",
   "metadata": {},
   "outputs": [],
   "source": []
  }
 ],
 "metadata": {
  "kernelspec": {
   "display_name": "Python 3 (ipykernel)",
   "language": "python",
   "name": "python3"
  },
  "language_info": {
   "codemirror_mode": {
    "name": "ipython",
    "version": 3
   },
   "file_extension": ".py",
   "mimetype": "text/x-python",
   "name": "python",
   "nbconvert_exporter": "python",
   "pygments_lexer": "ipython3",
   "version": "3.10.8"
  }
 },
 "nbformat": 4,
 "nbformat_minor": 5
}

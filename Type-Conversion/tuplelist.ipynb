{
 "cells": [
  {
   "cell_type": "code",
   "execution_count": 1,
   "id": "ce287aba-6726-438e-b959-433f7327c4df",
   "metadata": {},
   "outputs": [],
   "source": [
    "# Covert a tuple to a list."
   ]
  },
  {
   "cell_type": "code",
   "execution_count": 2,
   "id": "47a7d520-009b-4333-bc81-e368c33de08d",
   "metadata": {},
   "outputs": [],
   "source": [
    "tuple = ( 1 , 2 ,3 , 4 ,5 )"
   ]
  },
  {
   "cell_type": "code",
   "execution_count": 3,
   "id": "ea3e93e3-b469-4cd6-bd9b-682de52d9cf3",
   "metadata": {},
   "outputs": [
    {
     "data": {
      "text/plain": [
       "(1, 2, 3, 4, 5)"
      ]
     },
     "execution_count": 3,
     "metadata": {},
     "output_type": "execute_result"
    }
   ],
   "source": [
    "tuple"
   ]
  },
  {
   "cell_type": "code",
   "execution_count": 4,
   "id": "2c16e11a-2b71-4d49-b586-186440bcba0d",
   "metadata": {},
   "outputs": [
    {
     "data": {
      "text/plain": [
       "[1, 2, 3, 4, 5]"
      ]
     },
     "execution_count": 4,
     "metadata": {},
     "output_type": "execute_result"
    }
   ],
   "source": [
    "list(tuple)"
   ]
  },
  {
   "cell_type": "code",
   "execution_count": null,
   "id": "4ab04836-a1d1-4778-9af3-127767781559",
   "metadata": {},
   "outputs": [],
   "source": []
  }
 ],
 "metadata": {
  "kernelspec": {
   "display_name": "Python 3 (ipykernel)",
   "language": "python",
   "name": "python3"
  },
  "language_info": {
   "codemirror_mode": {
    "name": "ipython",
    "version": 3
   },
   "file_extension": ".py",
   "mimetype": "text/x-python",
   "name": "python",
   "nbconvert_exporter": "python",
   "pygments_lexer": "ipython3",
   "version": "3.10.8"
  }
 },
 "nbformat": 4,
 "nbformat_minor": 5
}

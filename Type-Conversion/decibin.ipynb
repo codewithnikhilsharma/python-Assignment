{
 "cells": [
  {
   "cell_type": "code",
   "execution_count": 1,
   "id": "ce287aba-6726-438e-b959-433f7327c4df",
   "metadata": {},
   "outputs": [],
   "source": [
    "# Covert a decimal number to binary."
   ]
  },
  {
   "cell_type": "code",
   "execution_count": 6,
   "id": "4ab04836-a1d1-4778-9af3-127767781559",
   "metadata": {},
   "outputs": [],
   "source": [
    "decimal = 22"
   ]
  },
  {
   "cell_type": "code",
   "execution_count": 7,
   "id": "6af943e8-6938-4f96-b387-fcffe8fff980",
   "metadata": {},
   "outputs": [
    {
     "data": {
      "text/plain": [
       "22"
      ]
     },
     "execution_count": 7,
     "metadata": {},
     "output_type": "execute_result"
    }
   ],
   "source": [
    "decimal"
   ]
  },
  {
   "cell_type": "code",
   "execution_count": 8,
   "id": "b4eb4e4d-a2d6-47f7-8a94-57b524ee8cb5",
   "metadata": {},
   "outputs": [
    {
     "data": {
      "text/plain": [
       "'0b10110'"
      ]
     },
     "execution_count": 8,
     "metadata": {},
     "output_type": "execute_result"
    }
   ],
   "source": [
    "bin(decimal)"
   ]
  },
  {
   "cell_type": "code",
   "execution_count": null,
   "id": "1da300e8-17f1-454a-9d8d-bd09904d294b",
   "metadata": {},
   "outputs": [],
   "source": []
  }
 ],
 "metadata": {
  "kernelspec": {
   "display_name": "Python 3 (ipykernel)",
   "language": "python",
   "name": "python3"
  },
  "language_info": {
   "codemirror_mode": {
    "name": "ipython",
    "version": 3
   },
   "file_extension": ".py",
   "mimetype": "text/x-python",
   "name": "python",
   "nbconvert_exporter": "python",
   "pygments_lexer": "ipython3",
   "version": "3.10.8"
  }
 },
 "nbformat": 4,
 "nbformat_minor": 5
}

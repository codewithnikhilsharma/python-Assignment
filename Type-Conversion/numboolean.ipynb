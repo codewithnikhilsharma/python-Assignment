{
 "cells": [
  {
   "cell_type": "code",
   "execution_count": 1,
   "id": "ce287aba-6726-438e-b959-433f7327c4df",
   "metadata": {},
   "outputs": [],
   "source": [
    "# Covert a non-zero number to boolea."
   ]
  },
  {
   "cell_type": "code",
   "execution_count": null,
   "id": "1da300e8-17f1-454a-9d8d-bd09904d294b",
   "metadata": {},
   "outputs": [],
   "source": []
  }
 ],
 "metadata": {
  "kernelspec": {
   "display_name": "Python 3 (ipykernel)",
   "language": "python",
   "name": "python3"
  },
  "language_info": {
   "codemirror_mode": {
    "name": "ipython",
    "version": 3
   },
   "file_extension": ".py",
   "mimetype": "text/x-python",
   "name": "python",
   "nbconvert_exporter": "python",
   "pygments_lexer": "ipython3",
   "version": "3.10.8"
  }
 },
 "nbformat": 4,
 "nbformat_minor": 5
}

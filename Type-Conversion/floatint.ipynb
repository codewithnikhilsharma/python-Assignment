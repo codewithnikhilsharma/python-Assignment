{
 "cells": [
  {
   "cell_type": "code",
   "execution_count": 1,
   "id": "d2e5dae0-937d-4669-882a-68ea2c45fba4",
   "metadata": {},
   "outputs": [],
   "source": [
    "# Covert a float to a iteger."
   ]
  },
  {
   "cell_type": "code",
   "execution_count": 2,
   "id": "3dc5e7ae-677b-448e-88da-e2b44ae69929",
   "metadata": {},
   "outputs": [],
   "source": [
    "float = 11.0"
   ]
  },
  {
   "cell_type": "code",
   "execution_count": 3,
   "id": "291de106-cc2c-45e2-ace1-18ec53dd9818",
   "metadata": {},
   "outputs": [
    {
     "data": {
      "text/plain": [
       "11.0"
      ]
     },
     "execution_count": 3,
     "metadata": {},
     "output_type": "execute_result"
    }
   ],
   "source": [
    "float"
   ]
  },
  {
   "cell_type": "code",
   "execution_count": null,
   "id": "524a1652-19a7-44d8-ad45-4c838549dcaa",
   "metadata": {},
   "outputs": [],
   "source": [
    "i"
   ]
  }
 ],
 "metadata": {
  "kernelspec": {
   "display_name": "Python 3 (ipykernel)",
   "language": "python",
   "name": "python3"
  },
  "language_info": {
   "codemirror_mode": {
    "name": "ipython",
    "version": 3
   },
   "file_extension": ".py",
   "mimetype": "text/x-python",
   "name": "python",
   "nbconvert_exporter": "python",
   "pygments_lexer": "ipython3",
   "version": "3.10.8"
  }
 },
 "nbformat": 4,
 "nbformat_minor": 5
}

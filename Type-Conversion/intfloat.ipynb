{
 "cells": [
  {
   "cell_type": "code",
   "execution_count": 3,
   "id": "68689556-cb1f-492f-adc0-1c7dd262af69",
   "metadata": {},
   "outputs": [],
   "source": [
    "# Covert a iteger to a floatig-poit number."
   ]
  },
  {
   "cell_type": "code",
   "execution_count": 4,
   "id": "e1b6c5cb-51ba-4976-86e9-42eaf33d60df",
   "metadata": {},
   "outputs": [],
   "source": [
    "int = 994"
   ]
  },
  {
   "cell_type": "code",
   "execution_count": 5,
   "id": "017260d4-ab51-4605-9748-c5735c12595f",
   "metadata": {},
   "outputs": [
    {
     "data": {
      "text/plain": [
       "994"
      ]
     },
     "execution_count": 5,
     "metadata": {},
     "output_type": "execute_result"
    }
   ],
   "source": [
    "int"
   ]
  },
  {
   "cell_type": "code",
   "execution_count": 6,
   "id": "7f57fcf8-2219-41bc-ae58-75caefac02c5",
   "metadata": {},
   "outputs": [
    {
     "data": {
      "text/plain": [
       "994.0"
      ]
     },
     "execution_count": 6,
     "metadata": {},
     "output_type": "execute_result"
    }
   ],
   "source": [
    "float(int)"
   ]
  },
  {
   "cell_type": "code",
   "execution_count": null,
   "id": "38a04cc2-a46f-494b-8ad6-235802f668b1",
   "metadata": {},
   "outputs": [],
   "source": []
  }
 ],
 "metadata": {
  "kernelspec": {
   "display_name": "Python 3 (ipykernel)",
   "language": "python",
   "name": "python3"
  },
  "language_info": {
   "codemirror_mode": {
    "name": "ipython",
    "version": 3
   },
   "file_extension": ".py",
   "mimetype": "text/x-python",
   "name": "python",
   "nbconvert_exporter": "python",
   "pygments_lexer": "ipython3",
   "version": "3.10.8"
  }
 },
 "nbformat": 4,
 "nbformat_minor": 5
}

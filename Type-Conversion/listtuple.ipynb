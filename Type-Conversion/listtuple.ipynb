{
 "cells": [
  {
   "cell_type": "code",
   "execution_count": 5,
   "id": "ce287aba-6726-438e-b959-433f7327c4df",
   "metadata": {},
   "outputs": [],
   "source": [
    "# Covert a list to a tuple."
   ]
  },
  {
   "cell_type": "code",
   "execution_count": 6,
   "id": "6b7b2d6d-7f0c-4134-b4d2-21677daa972b",
   "metadata": {},
   "outputs": [],
   "source": [
    "list = { 1 ,  2 , 3, 4, 5 }"
   ]
  },
  {
   "cell_type": "code",
   "execution_count": 7,
   "id": "56d50145-b5fc-4d63-a8a8-b001a7f16f69",
   "metadata": {},
   "outputs": [
    {
     "data": {
      "text/plain": [
       "{1, 2, 3, 4, 5}"
      ]
     },
     "execution_count": 7,
     "metadata": {},
     "output_type": "execute_result"
    }
   ],
   "source": [
    "list"
   ]
  },
  {
   "cell_type": "code",
   "execution_count": 8,
   "id": "95938106-af91-4443-b68a-a0c6492cc7bb",
   "metadata": {},
   "outputs": [
    {
     "data": {
      "text/plain": [
       "(1, 2, 3, 4, 5)"
      ]
     },
     "execution_count": 8,
     "metadata": {},
     "output_type": "execute_result"
    }
   ],
   "source": [
    "tuple(list)"
   ]
  },
  {
   "cell_type": "code",
   "execution_count": null,
   "id": "e0cf88c5-977d-4190-b8c8-a785848c8ef3",
   "metadata": {},
   "outputs": [],
   "source": []
  }
 ],
 "metadata": {
  "kernelspec": {
   "display_name": "Python 3 (ipykernel)",
   "language": "python",
   "name": "python3"
  },
  "language_info": {
   "codemirror_mode": {
    "name": "ipython",
    "version": 3
   },
   "file_extension": ".py",
   "mimetype": "text/x-python",
   "name": "python",
   "nbconvert_exporter": "python",
   "pygments_lexer": "ipython3",
   "version": "3.10.8"
  }
 },
 "nbformat": 4,
 "nbformat_minor": 5
}
